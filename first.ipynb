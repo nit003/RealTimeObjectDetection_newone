{
 "cells": [
  {
   "cell_type": "code",
   "execution_count": 1,
   "metadata": {},
   "outputs": [],
   "source": [
    "import cv2\n",
    "import os\n",
    "import time\n",
    "import uuid"
   ]
  },
  {
   "cell_type": "code",
   "execution_count": 2,
   "metadata": {},
   "outputs": [],
   "source": [
    "Images_path = 'Tensorflow/workspace/images/collectedimages'"
   ]
  },
  {
   "cell_type": "code",
   "execution_count": 3,
   "metadata": {},
   "outputs": [],
   "source": [
    "# labels = [\n",
    "#           '0',\n",
    "#           '1',\n",
    "#           '2',\n",
    "#           '3',\n",
    "#           '4',\n",
    "#           '5',\n",
    "#           '6',\n",
    "#           '7',\n",
    "#           '8',\n",
    "#           '9',\n",
    "#           'A'\n",
    "#           'B'\n",
    "#           'C',\n",
    "#           'D',\n",
    "#           'E',\n",
    "#           'F',\n",
    "#           'G',\n",
    "#           'H',\n",
    "#           'I',\n",
    "#           'J',\n",
    "#           'K',\n",
    "#           'L',\n",
    "#           'M',\n",
    "#           'N',\n",
    "#           '0',\n",
    "#           'P',\n",
    "#           'Q',\n",
    "#           'R',\n",
    "#           'S',\n",
    "#           'T',\n",
    "#           'U',\n",
    "#           'V',\n",
    "#           'W',\n",
    "#           'X',\n",
    "#           'Y',\n",
    "#           'Z',\n",
    "#           'Hello',\n",
    "#           'Good',\n",
    "#           'Morning',\n",
    "#           'Evening',\n",
    "#           'Night',\n",
    "#           'I-Love-You',\n",
    "#           'Afternoon',\n",
    "#           'Please',\n",
    "#           'Thankyou',\n",
    "#           'Welcome',\n",
    "#           'Excuse-me',\n",
    "#           'Yes',\n",
    "#           'No',\n",
    "#           'Fine',\n",
    "#           'Today',\n",
    "#           'Tomorrow',\n",
    "#           'My-name-is',\n",
    "#           'What',\n",
    "#           'How',\n",
    "#           'When',\n",
    "#           'Where',\n",
    "#           'Sorry',\n",
    "#           'Happy',\n",
    "#           'Sad',\n",
    "#           'We',\n",
    "#           'You',\n",
    "#           'I',\n",
    "#           'Who',\n",
    "#           'Why',\n",
    "#           'Call',\n",
    "#           'chat',\n",
    "#           'Video',\n",
    "#           'Good-bye',\n",
    "#           'Screen-share',\n",
    "#           'Wednesday',\n",
    "#           'Today',\n",
    "#           'My-name-is',\n",
    "#           'Yesterday',\n",
    "#           'Help',\n",
    "#           'Take-Care',\n",
    "#           'People',\n",
    "#           'Project',\n",
    "#           'Silent',\n",
    "#           'Voice',\n",
    "#           'Disabled',\n",
    "#           'Our-aim',\n",
    "#           'Feel',\n",
    "#           'Home',\n",
    "#           'Talk','Nice',\n",
    "#           'Mom',\n",
    "#           'Dad',\n",
    "#           'Boy',\n",
    "#           'Girl',\n",
    "#           'Work',\n",
    "#           'Status',]\n",
    "\n",
    "labels = ['Hello', 'I-Love-You', 'Yes', 'No']\n",
    "\n",
    "number_imgs = 60"
   ]
  },
  {
   "cell_type": "code",
   "execution_count": 5,
   "metadata": {},
   "outputs": [
    {
     "name": "stdout",
     "output_type": "stream",
     "text": [
      "Collecting imagess for Hello\n",
      "Collecting imagess for I-Love-You\n",
      "Collecting imagess for Yes\n",
      "Collecting imagess for No\n"
     ]
    },
    {
     "ename": "",
     "evalue": "",
     "output_type": "error",
     "traceback": [
      "\u001b[1;31mThe Kernel crashed while executing code in the the current cell or a previous cell. Please review the code in the cell(s) to identify a possible cause of the failure. Click <a href='https://aka.ms/vscodeJupyterKernelCrash'>here</a> for more info. View Jupyter <a href='command:jupyter.viewOutput'>log</a> for further details."
     ]
    }
   ],
   "source": [
    "\n",
    "for label in labels:\n",
    "\n",
    "   os.mkdir('Tensorflow\\workspace\\images\\collectedimages\\\\'+label)\n",
    "\n",
    "   cap = cv2.VideoCapture(0)\n",
    "   time.sleep(10)\n",
    "   print('Collecting imagess for {}'.format(label))\n",
    "   for imgnum in range(number_imgs):\n",
    "      ret, frame = cap.read()\n",
    "      imgname = os.path.join(Images_path, label, \n",
    "      label+'.'+'{}.jpg'.format(str(uuid.uuid1())))\n",
    "      cv2.imwrite(imgname, frame)\n",
    "      cv2.imshow('frame', frame)\n",
    "      time.sleep(1)\n",
    "\n",
    "      if cv2.waitKey(1) & 0xFF == ord('q'):\n",
    "         break\n",
    "\n",
    "   cap.release()"
   ]
  }
 ],
 "metadata": {
  "kernelspec": {
   "display_name": "Python 3",
   "language": "python",
   "name": "python3"
  },
  "language_info": {
   "codemirror_mode": {
    "name": "ipython",
    "version": 3
   },
   "file_extension": ".py",
   "mimetype": "text/x-python",
   "name": "python",
   "nbconvert_exporter": "python",
   "pygments_lexer": "ipython3",
   "version": "3.10.7"
  },
  "orig_nbformat": 4,
  "vscode": {
   "interpreter": {
    "hash": "16dbc6485642327c9b427fc45205b83b91e3a4e2425cfc504ecbe4fec7c44665"
   }
  }
 },
 "nbformat": 4,
 "nbformat_minor": 2
}
